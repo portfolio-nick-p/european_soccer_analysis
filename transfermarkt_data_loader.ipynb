{
 "cells": [
  {
   "cell_type": "code",
   "execution_count": 5,
   "id": "c2cb6852",
   "metadata": {},
   "outputs": [],
   "source": [
    "import pandas as pd\n",
    "import sqlite3"
   ]
  },
  {
   "cell_type": "code",
   "execution_count": 10,
   "id": "bbaca9a3",
   "metadata": {},
   "outputs": [],
   "source": [
    "# List of CSV files\n",
    "csv_files = [\n",
    "    \"game_events.csv\",\n",
    "    \"games.csv\",\n",
    "    \"player_valuations.csv\",\n",
    "    \"players.csv\",\n",
    "    \"competitions.csv\",\n",
    "    \"clubs.csv\",\n",
    "    \"club_games.csv\",\n",
    "    \"appearances.csv\"\n",
    "]\n",
    "\n",
    "try:\n",
    "    conn = sqlite3.connect(\"transfermarkt.db\")\n",
    "    cursor = conn.cursor()\n",
    "\n",
    "    for file in csv_files:\n",
    "        table_name = file.split(\".\")[0]  # Extract table name from filename\n",
    "        file_path = rf\"C:\\Users\\nickp\\Python Projects\\euro_footy\\data\\{file}\"\n",
    "        \n",
    "        # Reading each CSV into a DataFrame\n",
    "        df = pd.read_csv(file_path)\n",
    "        \n",
    "        # Transfering the DataFrame into SQLite table\n",
    "        df.to_sql(table_name, conn, if_exists='replace')\n",
    "\n",
    "    conn.commit()\n",
    "    conn.close()\n",
    "\n",
    "except sqlite3.Error as e:\n",
    "    print(\"Error:\", e)\n"
   ]
  },
  {
   "cell_type": "code",
   "execution_count": 7,
   "id": "cceb5917",
   "metadata": {},
   "outputs": [],
   "source": [
    "# Error handling\n",
    "try: \n",
    "    # Connect to the database\n",
    "    conn = sqlite3.connect(\"transfermarkt.db\")\n",
    "    cursor = conn.cursor()\n",
    "except sqlite3.Error as e:\n",
    "    # If problem\n",
    "    print(\"Error connecting to the database\", e)"
   ]
  },
  {
   "cell_type": "code",
   "execution_count": 9,
   "id": "0996c264",
   "metadata": {},
   "outputs": [
    {
     "data": {
      "text/plain": [
       "[('appearances',),\n",
       " ('club_games',),\n",
       " ('clubs',),\n",
       " ('competitions',),\n",
       " ('game_events',),\n",
       " ('games',),\n",
       " ('player_valuations',),\n",
       " ('players',)]"
      ]
     },
     "execution_count": 9,
     "metadata": {},
     "output_type": "execute_result"
    }
   ],
   "source": [
    "# Looking at total sql database\n",
    "cursor.execute(\"\"\"\n",
    "                SELECT name\n",
    "                FROM sqlite_master\n",
    "                WHERE type='table'\n",
    "                ORDER BY 1\n",
    "                \"\"\")\n",
    "\n",
    "\n",
    "cursor.fetchall()"
   ]
  },
  {
   "cell_type": "code",
   "execution_count": 8,
   "id": "ef6f704f",
   "metadata": {},
   "outputs": [],
   "source": [
    "# DEPRECATED # Error handling\n",
    "# DEPRECATED try: \n",
    "# DEPRECATED     # Connect to the database\n",
    "# DEPRECATED     conn = sqlite3.connect(\"transfermarkt.db\")\n",
    "# DEPRECATED     cursor = conn.cursor()\n",
    "# DEPRECATED except sqlite3.Error as e:\n",
    "# DEPRECATED     # If problem\n",
    "# DEPRECATED     print(\"Error connecting to the database\", e)"
   ]
  },
  {
   "cell_type": "code",
   "execution_count": null,
   "id": "c246a1db",
   "metadata": {},
   "outputs": [],
   "source": [
    "# DEPRECATED try:\n",
    "# DEPRECATED     # Reading CSVs into a dataframe\n",
    "# DEPRECATED     game_events = pd.read_csv(r\"C:\\Users\\nickp\\Python Projects\\euro_footy\\data\\game_events.csv\")\n",
    "# DEPRECATED     # Transfering the dataframe into SQLite table\n",
    "# DEPRECATED     game_events.to_sql(\n",
    "# DEPRECATED             'game_events', #name of sqltable\n",
    "# DEPRECATED             conn, # sqlite.connection or sqlalchemy.engine.Engine\n",
    "# DEPRECATED             if_exists='replace')\n",
    "# DEPRECATED     \n",
    "# DEPRECATED     # Reading CSVs into a dataframe\n",
    "# DEPRECATED     games = pd.read_csv(r\"C:\\Users\\nickp\\Python Projects\\euro_footy\\data\\games.csv\")\n",
    "# DEPRECATED     # Transfering the dataframe into SQLite table\n",
    "# DEPRECATED     games.to_sql(\n",
    "# DEPRECATED             'games', #name of sqltable\n",
    "# DEPRECATED             conn, # sqlite.connection or sqlalchemy.engine.Engine\n",
    "# DEPRECATED             if_exists='replace')\n",
    "# DEPRECATED     \n",
    "# DEPRECATED     # Reading CSVs into a dataframe\n",
    "# DEPRECATED     player_valuations = pd.read_csv(r\"C:\\Users\\nickp\\Python Projects\\euro_footy\\data\\player_valuations.csv\")\n",
    "# DEPRECATED     player_valuations.to_sql(\n",
    "# DEPRECATED             'player_valuations', #name of sqltable\n",
    "# DEPRECATED             conn, # sqlite.connection or sqlalchemy.engine.Engine\n",
    "# DEPRECATED             if_exists='replace')\n",
    "# DEPRECATED     \n",
    "# DEPRECATED     # Reading CSVs into a dataframe\n",
    "# DEPRECATED     players = pd.read_csv(r\"C:\\Users\\nickp\\Python Projects\\euro_footy\\data\\players.csv\")\n",
    "# DEPRECATED     players.to_sql(\n",
    "# DEPRECATED             'players', #name of sqltable\n",
    "# DEPRECATED             conn, # sqlite.connection or sqlalchemy.engine.Engine\n",
    "# DEPRECATED             if_exists='replace')\n",
    "# DEPRECATED     \n",
    "# DEPRECATED     # Reading CSVs into a dataframe\n",
    "# DEPRECATED     competitions = pd.read_csv(r\"C:\\Users\\nickp\\Python Projects\\euro_footy\\data\\competitions.csv\")\n",
    "# DEPRECATED     competitions.to_sql(\n",
    "# DEPRECATED             'competitions', #name of sqltable\n",
    "# DEPRECATED             conn, # sqlite.connection or sqlalchemy.engine.Engine\n",
    "# DEPRECATED             if_exists='replace')\n",
    "# DEPRECATED     \n",
    "# DEPRECATED     # Reading CSVs into a dataframe\n",
    "# DEPRECATED     clubs = pd.read_csv(r\"C:\\Users\\nickp\\Python Projects\\euro_footy\\data\\clubs.csv\")\n",
    "# DEPRECATED     clubs.to_sql(\n",
    "# DEPRECATED             'clubs', #name of sqltable\n",
    "# DEPRECATED             conn, # sqlite.connection or sqlalchemy.engine.Engine\n",
    "# DEPRECATED             if_exists='replace')\n",
    "# DEPRECATED     \n",
    "# DEPRECATED     # Reading CSVs into a dataframe\n",
    "# DEPRECATED     club_games = pd.read_csv(r\"C:\\Users\\nickp\\Python Projects\\euro_footy\\data\\club_games.csv\")\n",
    "# DEPRECATED     club_games.to_sql(\n",
    "# DEPRECATED             'club_games', # name of sqltable\n",
    "# DEPRECATED             conn, # sqlite.connection or sqlalchemy.engine.Engine\n",
    "# DEPRECATED             if_exists='replace') \n",
    "# DEPRECATED     \n",
    "# DEPRECATED     # Reading CSVs into a dataframe\n",
    "# DEPRECATED     appearances = pd.read_csv(r\"C:\\Users\\nickp\\Python Projects\\euro_footy\\data\\appearances.csv\")\n",
    "# DEPRECATED     appearances.to_sql(\n",
    "# DEPRECATED             'appearances', # name of sqltable\n",
    "# DEPRECATED             conn, # sqlite.connection or sqlalchemy.engine.Engine\n",
    "# DEPRECATED             if_exists='replace')\n",
    "# DEPRECATED     \n",
    "# DEPRECATED     conn.commit()\n",
    "# DEPRECATED \n",
    "# DEPRECATED except sqlite3.Error as e:\n",
    "# DEPRECATED      # If Problem\n",
    "# DEPRECATED      print(\"Error creating table:\", e)\n",
    "# DEPRECATED     \n",
    "# DEPRECATED conn.close()"
   ]
  }
 ],
 "metadata": {
  "kernelspec": {
   "display_name": "Python 3 (ipykernel)",
   "language": "python",
   "name": "python3"
  },
  "language_info": {
   "codemirror_mode": {
    "name": "ipython",
    "version": 3
   },
   "file_extension": ".py",
   "mimetype": "text/x-python",
   "name": "python",
   "nbconvert_exporter": "python",
   "pygments_lexer": "ipython3",
   "version": "3.11.3"
  }
 },
 "nbformat": 4,
 "nbformat_minor": 5
}
