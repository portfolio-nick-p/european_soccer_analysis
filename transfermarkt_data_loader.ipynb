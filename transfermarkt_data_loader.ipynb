{
 "cells": [
  {
   "cell_type": "code",
   "execution_count": 4,
   "id": "074e0532",
   "metadata": {},
   "outputs": [],
   "source": [
    "import pandas as pd\n",
    "import sqlite3\n",
    "import csv "
   ]
  },
  {
   "cell_type": "code",
   "execution_count": 8,
   "id": "ef6f704f",
   "metadata": {},
   "outputs": [],
   "source": [
    "# Error handling\n",
    "try: \n",
    "    # Connect to the database\n",
    "    conn = sqlite3.connect(\"transfermarkt.db\")\n",
    "    cursor = conn.cursor()\n",
    "except sqlite3.Error as e:\n",
    "    # If problem\n",
    "    print(\"Error connecting to the database\", e)"
   ]
  },
  {
   "cell_type": "code",
   "execution_count": null,
   "id": "fe9a8cbf",
   "metadata": {},
   "outputs": [],
   "source": [
    "try:\n",
    "    # Reading CSVs into a dataframe\n",
    "    game_events = pd.read_csv(r\"C:\\Users\\nickp\\Python Projects\\euro_footy\\data\\game_events.csv\")\n",
    "    # Transfering the dataframe into SQLite table\n",
    "    game_events.to_sql(\n",
    "            'game_events', #name of sqltable\n",
    "            conn, # sqlite.connection or sqlalchemy.engine.Engine\n",
    "            if_exists='replace')\n",
    "    \n",
    "    # Reading CSVs into a dataframe\n",
    "    games = pd.read_csv(r\"C:\\Users\\nickp\\Python Projects\\euro_footy\\data\\games.csv\")\n",
    "    # Transfering the dataframe into SQLite table\n",
    "    games.to_sql(\n",
    "            'games', #name of sqltable\n",
    "            conn, # sqlite.connection or sqlalchemy.engine.Engine\n",
    "            if_exists='replace')\n",
    "    \n",
    "    # Reading CSVs into a dataframe\n",
    "    player_valuations = pd.read_csv(r\"C:\\Users\\nickp\\Python Projects\\euro_footy\\data\\player_valuations.csv\")\n",
    "    player_valuations.to_sql(\n",
    "            'player_valuations', #name of sqltable\n",
    "            conn, # sqlite.connection or sqlalchemy.engine.Engine\n",
    "            if_exists='replace')\n",
    "    \n",
    "    # Reading CSVs into a dataframe\n",
    "    players = pd.read_csv(r\"C:\\Users\\nickp\\Python Projects\\euro_footy\\data\\players.csv\")\n",
    "    players.to_sql(\n",
    "            'players', #name of sqltable\n",
    "            conn, # sqlite.connection or sqlalchemy.engine.Engine\n",
    "            if_exists='replace')\n",
    "    \n",
    "    # Reading CSVs into a dataframe\n",
    "    competitions = pd.read_csv(r\"C:\\Users\\nickp\\Python Projects\\euro_footy\\data\\competitions.csv\")\n",
    "    competitions.to_sql(\n",
    "            'competitions', #name of sqltable\n",
    "            conn, # sqlite.connection or sqlalchemy.engine.Engine\n",
    "            if_exists='replace')\n",
    "    \n",
    "    # Reading CSVs into a dataframe\n",
    "    clubs = pd.read_csv(r\"C:\\Users\\nickp\\Python Projects\\euro_footy\\data\\clubs.csv\")\n",
    "    clubs.to_sql(\n",
    "            'clubs', #name of sqltable\n",
    "            conn, # sqlite.connection or sqlalchemy.engine.Engine\n",
    "            if_exists='replace')\n",
    "    \n",
    "    # Reading CSVs into a dataframe\n",
    "    club_games = pd.read_csv(r\"C:\\Users\\nickp\\Python Projects\\euro_footy\\data\\club_games.csv\")\n",
    "    club_games.to_sql(\n",
    "            'club_games', # name of sqltable\n",
    "            conn, # sqlite.connection or sqlalchemy.engine.Engine\n",
    "            if_exists='replace')\n",
    "    \n",
    "    # Reading CSVs into a dataframe\n",
    "    appearances = pd.read_csv(r\"C:\\Users\\nickp\\Python Projects\\euro_footy\\data\\appearances.csv\")\n",
    "    appearances.to_sql(\n",
    "            'appearances', # name of sqltable\n",
    "            conn, # sqlite.connection or sqlalchemy.engine.Engine\n",
    "            if_exists='replace')\n",
    "    \n",
    "    conn.commit()\n",
    "\n",
    "except sqlite3.Error as e:\n",
    "     # If Problem\n",
    "     print(\"Error creating table:\", e)\n",
    "    \n",
    "conn.close()"
   ]
  },
  {
   "cell_type": "code",
   "execution_count": null,
   "id": "7693d820",
   "metadata": {},
   "outputs": [],
   "source": [
    "cursor.fetchall()"
   ]
  },
  {
   "cell_type": "code",
   "execution_count": null,
   "id": "c2cb6852",
   "metadata": {},
   "outputs": [],
   "source": [
    "# Looking at total sql database\n",
    "cursor.execute(\"\"\"\n",
    "                SELECT name\n",
    "                FROM sqlite_master\n",
    "                WHERE type='table'\n",
    "                ORDER BY 1\n",
    "                \"\"\")\n",
    "\n",
    "\n",
    "cursor.fetchall()"
   ]
  },
  {
   "cell_type": "code",
   "execution_count": 39,
   "id": "0996c264",
   "metadata": {},
   "outputs": [],
   "source": []
  },
  {
   "cell_type": "code",
   "execution_count": null,
   "id": "c246a1db",
   "metadata": {},
   "outputs": [],
   "source": []
  }
 ],
 "metadata": {
  "kernelspec": {
   "display_name": "Python 3 (ipykernel)",
   "language": "python",
   "name": "python3"
  },
  "language_info": {
   "codemirror_mode": {
    "name": "ipython",
    "version": 3
   },
   "file_extension": ".py",
   "mimetype": "text/x-python",
   "name": "python",
   "nbconvert_exporter": "python",
   "pygments_lexer": "ipython3",
   "version": "3.11.3"
  }
 },
 "nbformat": 4,
 "nbformat_minor": 5
}
